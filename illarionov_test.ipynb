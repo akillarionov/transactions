{
 "cells": [
  {
   "cell_type": "markdown",
   "id": "19466879",
   "metadata": {},
   "source": [
    "### Тестовое задание №1"
   ]
  },
  {
   "cell_type": "markdown",
   "id": "cc0ab7c4",
   "metadata": {},
   "source": [
    "**Задача:** \n",
    "\n",
    "Выделить из транзакционных данных клиентов, которые покупали кофе/посещали кофейни от 2 раз в месяц хотя бы 2 из 3 месяцев."
   ]
  },
  {
   "cell_type": "markdown",
   "id": "e35bcbc1",
   "metadata": {},
   "source": [
    "Карточные транзакции\n",
    "- 'customer_id' - идентификатор клиента\n",
    "- 'card_id' - идентификатор карты клиента\n",
    "- 'tr_datetime' - дата совершения транзакции\n",
    "- 'tr_normalized_amount' - сумма транзакции в рублях\n",
    "- 'currency' - валюта транзакции\n",
    "- 'mcc' - мсс код транзакции (что такое мсс и поиск значения можно посмотреть тут https://mcc-codes.ru/)\n",
    "- 'merchant_name' - наименование торговой точки, где была произведена транзакция\n",
    "- 'merchant_city' - город, в котором была произведена транзакция"
   ]
  },
  {
   "cell_type": "code",
   "execution_count": 1,
   "id": "270922c2",
   "metadata": {},
   "outputs": [],
   "source": [
    "import pandas as pd\n",
    "import numpy as np\n",
    "import seaborn as sns\n",
    "sns.set()"
   ]
  },
  {
   "cell_type": "code",
   "execution_count": 2,
   "id": "a46d43df",
   "metadata": {},
   "outputs": [
    {
     "data": {
      "text/html": [
       "<div>\n",
       "<style scoped>\n",
       "    .dataframe tbody tr th:only-of-type {\n",
       "        vertical-align: middle;\n",
       "    }\n",
       "\n",
       "    .dataframe tbody tr th {\n",
       "        vertical-align: top;\n",
       "    }\n",
       "\n",
       "    .dataframe thead th {\n",
       "        text-align: right;\n",
       "    }\n",
       "</style>\n",
       "<table border=\"1\" class=\"dataframe\">\n",
       "  <thead>\n",
       "    <tr style=\"text-align: right;\">\n",
       "      <th></th>\n",
       "      <th>customer_id</th>\n",
       "      <th>card_id</th>\n",
       "      <th>tr_datetime</th>\n",
       "      <th>tr_normalized_amount</th>\n",
       "      <th>currency</th>\n",
       "      <th>mcc</th>\n",
       "      <th>merchant_name</th>\n",
       "      <th>merchant_city</th>\n",
       "    </tr>\n",
       "  </thead>\n",
       "  <tbody>\n",
       "    <tr>\n",
       "      <th>73217</th>\n",
       "      <td>2EC07D3D8760B5A4A37CAD070AED717A</td>\n",
       "      <td>ADAF527C8C497CF78ACD857218931146</td>\n",
       "      <td>2019-10-05</td>\n",
       "      <td>304.0</td>\n",
       "      <td>810</td>\n",
       "      <td>5331</td>\n",
       "      <td>ip kryuchkova e.s.        chern       ru</td>\n",
       "      <td>zheleznogors</td>\n",
       "    </tr>\n",
       "    <tr>\n",
       "      <th>29839</th>\n",
       "      <td>E21DA460F9E27FD50AD650002D613E9C</td>\n",
       "      <td>00DBBCB268492EF449C467AE7A10F538</td>\n",
       "      <td>2019-08-20</td>\n",
       "      <td>223.0</td>\n",
       "      <td>810</td>\n",
       "      <td>5814</td>\n",
       "      <td>restoran kfs              nab. chelny ru</td>\n",
       "      <td>nab. chelny</td>\n",
       "    </tr>\n",
       "  </tbody>\n",
       "</table>\n",
       "</div>"
      ],
      "text/plain": [
       "                            customer_id                           card_id  \\\n",
       "73217  2EC07D3D8760B5A4A37CAD070AED717A  ADAF527C8C497CF78ACD857218931146   \n",
       "29839  E21DA460F9E27FD50AD650002D613E9C  00DBBCB268492EF449C467AE7A10F538   \n",
       "\n",
       "      tr_datetime  tr_normalized_amount  currency   mcc  \\\n",
       "73217  2019-10-05                 304.0       810  5331   \n",
       "29839  2019-08-20                 223.0       810  5814   \n",
       "\n",
       "                                  merchant_name merchant_city  \n",
       "73217  ip kryuchkova e.s.        chern       ru  zheleznogors  \n",
       "29839  restoran kfs              nab. chelny ru   nab. chelny  "
      ]
     },
     "metadata": {},
     "output_type": "display_data"
    },
    {
     "name": "stdout",
     "output_type": "stream",
     "text": [
      "<class 'pandas.core.frame.DataFrame'>\n",
      "RangeIndex: 623956 entries, 0 to 623955\n",
      "Data columns (total 8 columns):\n",
      " #   Column                Non-Null Count   Dtype  \n",
      "---  ------                --------------   -----  \n",
      " 0   customer_id           623956 non-null  object \n",
      " 1   card_id               623956 non-null  object \n",
      " 2   tr_datetime           623956 non-null  object \n",
      " 3   tr_normalized_amount  623956 non-null  float64\n",
      " 4   currency              623956 non-null  int64  \n",
      " 5   mcc                   623956 non-null  int64  \n",
      " 6   merchant_name         623956 non-null  object \n",
      " 7   merchant_city         623953 non-null  object \n",
      "dtypes: float64(1), int64(2), object(5)\n",
      "memory usage: 38.1+ MB\n"
     ]
    }
   ],
   "source": [
    "df = pd.read_csv('transactions_small.csv', sep=';', error_bad_lines=False)\n",
    "\n",
    "display(df.sample(2))\n",
    "df.info()"
   ]
  },
  {
   "cell_type": "code",
   "execution_count": 3,
   "id": "7a587afe",
   "metadata": {},
   "outputs": [
    {
     "data": {
      "text/plain": [
       "623953"
      ]
     },
     "execution_count": 3,
     "metadata": {},
     "output_type": "execute_result"
    }
   ],
   "source": [
    "# Очищаем датасет от нескольких null-записей\n",
    "df.dropna(inplace=True)\n",
    "len(df)"
   ]
  },
  {
   "cell_type": "markdown",
   "id": "60001c23",
   "metadata": {},
   "source": [
    "#### 1. Дата транзакций\n",
    "\n",
    "Приводим к общему формату и выделяем день и месяц"
   ]
  },
  {
   "cell_type": "code",
   "execution_count": 4,
   "id": "a130012a",
   "metadata": {},
   "outputs": [
    {
     "data": {
      "text/plain": [
       "tr_month\n",
       "8     204344\n",
       "9     205319\n",
       "10    214290\n",
       "Name: tr_day, dtype: int64"
      ]
     },
     "execution_count": 4,
     "metadata": {},
     "output_type": "execute_result"
    }
   ],
   "source": [
    "df['tr_datetime'] = pd.to_datetime(df.tr_datetime, format='%Y-%m-%d', errors='coerce')\n",
    "\n",
    "df['tr_month'] = df.tr_datetime.dt.month\n",
    "df['tr_day'] = df.tr_datetime.dt.day\n",
    "\n",
    "df.groupby('tr_month')['tr_day'].count()"
   ]
  },
  {
   "cell_type": "markdown",
   "id": "95fd0a27",
   "metadata": {},
   "source": [
    "Записи распределены равномерно с небольшим увеличением количества в октябре."
   ]
  },
  {
   "cell_type": "markdown",
   "id": "1ae24664",
   "metadata": {},
   "source": [
    "#### 2. MCC код\n",
    "\n",
    "Данный признак наиболее важен для корректной оценки транзакций. Из открытых источников можно выделить следующие коды, подходящие под описание задачи. \n",
    "\n",
    "- **5812** Eating places and Restaurants\n",
    "- **5814** Fast Food Restaurants\n",
    "\n",
    "*Скорее, нет:* \n",
    "- **5813** Drinking Places (Alcoholic Beverages), Bars, Taverns, Cocktail lounges, Nightclubs and Discotheques \n",
    "\n"
   ]
  },
  {
   "cell_type": "code",
   "execution_count": 5,
   "id": "e3518443",
   "metadata": {},
   "outputs": [
    {
     "data": {
      "text/plain": [
       "5814    65522\n",
       "5812    19288\n",
       "Name: mcc, dtype: int64"
      ]
     },
     "execution_count": 5,
     "metadata": {},
     "output_type": "execute_result"
    }
   ],
   "source": [
    "# Остальные транзакции сейчас не нужны\n",
    "mcc = [5812, 5814]\n",
    "df.drop(df[~df['mcc'].isin(mcc)].index, inplace=True)\n",
    "\n",
    "df.mcc.value_counts(ascending=False)"
   ]
  },
  {
   "cell_type": "markdown",
   "id": "bcb6a243",
   "metadata": {},
   "source": [
    "#### 3. Города\n",
    "\n",
    "Перед тем, как перейти к анализу сумм транзакций, интересно понять, где они совершались"
   ]
  },
  {
   "cell_type": "code",
   "execution_count": 6,
   "id": "418c86c0",
   "metadata": {},
   "outputs": [
    {
     "data": {
      "text/plain": [
       "1056"
      ]
     },
     "execution_count": 6,
     "metadata": {},
     "output_type": "execute_result"
    }
   ],
   "source": [
    "df.merchant_city.nunique()"
   ]
  },
  {
   "cell_type": "code",
   "execution_count": 7,
   "id": "65abdee2",
   "metadata": {},
   "outputs": [
    {
     "data": {
      "text/plain": [
       "moscow              26382\n",
       "saint petersburg     7116\n",
       "domodedovo           3851\n",
       "krasnoyarsk          2790\n",
       "lipetsk              2032\n",
       "yekaterinburg        1492\n",
       "nizhny novgorod      1463\n",
       "novosibirsk          1440\n",
       "vsevolozhsk          1387\n",
       "krasnodar            1385\n",
       "samara               1248\n",
       "yakutsk              1072\n",
       "omsk                 1065\n",
       "ufa                  1031\n",
       "kazan                1004\n",
       "tomsk                 910\n",
       "khabarovsk            904\n",
       "chelyabinsk           897\n",
       "perm                  889\n",
       "ulan-ude              844\n",
       "Name: merchant_city, dtype: int64"
      ]
     },
     "execution_count": 7,
     "metadata": {},
     "output_type": "execute_result"
    }
   ],
   "source": [
    "df.merchant_city.value_counts()[:20]"
   ]
  },
  {
   "cell_type": "markdown",
   "id": "ebeff4e1",
   "metadata": {},
   "source": [
    "Большая часть - в Москве, в топ-10 так же областные центры + Домодедово и (внезапно) Всеволожск. Данные собраны со всей России."
   ]
  },
  {
   "cell_type": "markdown",
   "id": "139af81c",
   "metadata": {},
   "source": [
    "#### 4. Суммы транзакций\n",
    "\n",
    "Далее рассмотрим распределение по суммам"
   ]
  },
  {
   "cell_type": "code",
   "execution_count": 8,
   "id": "6cc10920",
   "metadata": {},
   "outputs": [
    {
     "data": {
      "text/plain": [
       "count    84810.000000\n",
       "mean       427.582099\n",
       "std       1085.887858\n",
       "min          0.720000\n",
       "25%        110.000000\n",
       "50%        205.000000\n",
       "75%        396.000000\n",
       "max      93156.500000\n",
       "Name: tr_normalized_amount, dtype: float64"
      ]
     },
     "execution_count": 8,
     "metadata": {},
     "output_type": "execute_result"
    }
   ],
   "source": [
    "df.tr_normalized_amount.describe()"
   ]
  },
  {
   "cell_type": "markdown",
   "id": "c1d1d192",
   "metadata": {},
   "source": [
    "**В рамках решаемой задачи более релевантными для нас будут записи в диапазоне от 20 до 3000 руб.** Для последующей обработки оставим в датафрейме только такие транзакции (Однако, этот шаг можно пропустить при желании)"
   ]
  },
  {
   "cell_type": "code",
   "execution_count": 9,
   "id": "c313cf18",
   "metadata": {},
   "outputs": [
    {
     "data": {
      "text/plain": [
       "count    82803.000000\n",
       "mean       340.597528\n",
       "std        406.901695\n",
       "min         20.000000\n",
       "25%        111.000000\n",
       "50%        204.000000\n",
       "75%        384.000000\n",
       "max       3000.000000\n",
       "Name: tr_normalized_amount, dtype: float64"
      ]
     },
     "execution_count": 9,
     "metadata": {},
     "output_type": "execute_result"
    }
   ],
   "source": [
    "df = df.drop(df[(df.tr_normalized_amount < 20) | (df.tr_normalized_amount > 3000)].index)\n",
    "df.tr_normalized_amount.describe()"
   ]
  },
  {
   "cell_type": "code",
   "execution_count": 10,
   "id": "71a047d7",
   "metadata": {},
   "outputs": [
    {
     "data": {
      "image/png": "[encoded data removed]",
      "text/plain": [
       "<Figure size 432x288 with 1 Axes>"
      ]
     },
     "metadata": {},
     "output_type": "display_data"
    }
   ],
   "source": [
    "df.tr_normalized_amount.hist(bins=100);"
   ]
  },
  {
   "cell_type": "markdown",
   "id": "fbf464a4",
   "metadata": {},
   "source": [
    "Предсказуемо, что распределение имеет тяжелый правый хвост - в повседневной жизни чаще совершаются микро-покупки, а крупные намного реже. Попробуем логарифмировать эту величину. Делать это необязательно, но пусть будет."
   ]
  },
  {
   "cell_type": "code",
   "execution_count": 11,
   "id": "898020a9",
   "metadata": {},
   "outputs": [
    {
     "data": {
      "image/png": "[encoded data removed]",
      "text/plain": [
       "<Figure size 432x288 with 1 Axes>"
      ]
     },
     "metadata": {},
     "output_type": "display_data"
    }
   ],
   "source": [
    "df['log_amount'] = np.log(df['tr_normalized_amount'])\n",
    "df.log_amount.hist(bins=20);"
   ]
  },
  {
   "cell_type": "markdown",
   "id": "ea4b5bbe",
   "metadata": {},
   "source": [
    "Теперь данные распределены нормально и в случае необходимости их можно будет использовать для моделирования"
   ]
  },
  {
   "cell_type": "markdown",
   "id": "ad08be6d",
   "metadata": {},
   "source": [
    "#### 5. Валюта"
   ]
  },
  {
   "cell_type": "code",
   "execution_count": 12,
   "id": "58399033",
   "metadata": {},
   "outputs": [
    {
     "data": {
      "text/plain": [
       "810    81666\n",
       "978      504\n",
       "840      104\n",
       "980       78\n",
       "949       69\n",
       "826       61\n",
       "933       57\n",
       "410       43\n",
       "975       36\n",
       "752       33\n",
       "348       18\n",
       "376       17\n",
       "203       17\n",
       "985       14\n",
       "398       14\n",
       "392       11\n",
       "51         8\n",
       "764        8\n",
       "756        7\n",
       "704        6\n",
       "981        5\n",
       "784        5\n",
       "944        5\n",
       "498        5\n",
       "191        3\n",
       "946        2\n",
       "36         2\n",
       "941        1\n",
       "8          1\n",
       "504        1\n",
       "352        1\n",
       "788        1\n",
       "Name: currency, dtype: int64"
      ]
     },
     "execution_count": 12,
     "metadata": {},
     "output_type": "execute_result"
    }
   ],
   "source": [
    "df['currency'].value_counts(ascending=False)"
   ]
  },
  {
   "cell_type": "markdown",
   "id": "a8b896d4",
   "metadata": {},
   "source": [
    "Так как количество нерублёвых транзакций сравнительно мало, оставим для анализа только операции в руб."
   ]
  },
  {
   "cell_type": "code",
   "execution_count": 13,
   "id": "853c498a",
   "metadata": {},
   "outputs": [],
   "source": [
    "df.drop(df[df['currency'] != 810].index, inplace=True)"
   ]
  },
  {
   "cell_type": "markdown",
   "id": "c51ac73f",
   "metadata": {},
   "source": [
    "#### 6. Название торговой точки\n",
    "\n",
    "По данному признаку определим, является ли точка продажи кофейней"
   ]
  },
  {
   "cell_type": "code",
   "execution_count": 14,
   "id": "10577570",
   "metadata": {},
   "outputs": [
    {
     "data": {
      "text/plain": [
       "17635"
      ]
     },
     "execution_count": 14,
     "metadata": {},
     "output_type": "execute_result"
    }
   ],
   "source": [
    "df.merchant_name.nunique()"
   ]
  },
  {
   "cell_type": "markdown",
   "id": "70be374b",
   "metadata": {},
   "source": [
    "Уникальных значений более 17 тыс., поэтому отберём наиболее популярные паттерны названия кофеен. При появлении дополнительной информации список можно будет расширить"
   ]
  },
  {
   "cell_type": "code",
   "execution_count": 15,
   "id": "53faf7f6",
   "metadata": {
    "scrolled": true
   },
   "outputs": [
    {
     "data": {
      "text/html": [
       "<div>\n",
       "<style scoped>\n",
       "    .dataframe tbody tr th:only-of-type {\n",
       "        vertical-align: middle;\n",
       "    }\n",
       "\n",
       "    .dataframe tbody tr th {\n",
       "        vertical-align: top;\n",
       "    }\n",
       "\n",
       "    .dataframe thead th {\n",
       "        text-align: right;\n",
       "    }\n",
       "</style>\n",
       "<table border=\"1\" class=\"dataframe\">\n",
       "  <thead>\n",
       "    <tr style=\"text-align: right;\">\n",
       "      <th></th>\n",
       "      <th>customer_id</th>\n",
       "      <th>card_id</th>\n",
       "      <th>tr_datetime</th>\n",
       "      <th>tr_normalized_amount</th>\n",
       "      <th>currency</th>\n",
       "      <th>mcc</th>\n",
       "      <th>merchant_name</th>\n",
       "      <th>merchant_city</th>\n",
       "      <th>tr_month</th>\n",
       "      <th>tr_day</th>\n",
       "      <th>log_amount</th>\n",
       "    </tr>\n",
       "  </thead>\n",
       "  <tbody>\n",
       "    <tr>\n",
       "      <th>210362</th>\n",
       "      <td>6A6E2FB9156BEFF543CA4283CD7865D4</td>\n",
       "      <td>2072C526DE838E54CC3FE9EDE152E8BD</td>\n",
       "      <td>2019-09-09</td>\n",
       "      <td>188.0</td>\n",
       "      <td>810</td>\n",
       "      <td>5814</td>\n",
       "      <td>\"\"\"starbucks\"\"               moskva      ru\"</td>\n",
       "      <td>moscow</td>\n",
       "      <td>9</td>\n",
       "      <td>9</td>\n",
       "      <td>5.236442</td>\n",
       "    </tr>\n",
       "    <tr>\n",
       "      <th>227658</th>\n",
       "      <td>A9A78D14672BA9D9015E7712CC28BF79</td>\n",
       "      <td>2DFC7D6C118041F86F5916452831EE2C</td>\n",
       "      <td>2019-09-21</td>\n",
       "      <td>538.0</td>\n",
       "      <td>810</td>\n",
       "      <td>5812</td>\n",
       "      <td>kofeynya                  ples        ru</td>\n",
       "      <td>privolzhsk</td>\n",
       "      <td>9</td>\n",
       "      <td>21</td>\n",
       "      <td>6.287859</td>\n",
       "    </tr>\n",
       "    <tr>\n",
       "      <th>614077</th>\n",
       "      <td>2D1B51FBD98FA66F74DA004B8B0C131B</td>\n",
       "      <td>96176515FE651125B7143FA31E364EAD</td>\n",
       "      <td>2019-08-04</td>\n",
       "      <td>320.0</td>\n",
       "      <td>810</td>\n",
       "      <td>5814</td>\n",
       "      <td>kofe-mashina dv           khabarovsk  ru</td>\n",
       "      <td>khabarovsk</td>\n",
       "      <td>8</td>\n",
       "      <td>4</td>\n",
       "      <td>5.768321</td>\n",
       "    </tr>\n",
       "    <tr>\n",
       "      <th>267306</th>\n",
       "      <td>2EE779BFA5EB22515E4BCD8745838606</td>\n",
       "      <td>7015E717BD3BDAA8E8CEDFE41E4726B9</td>\n",
       "      <td>2019-09-18</td>\n",
       "      <td>746.9</td>\n",
       "      <td>810</td>\n",
       "      <td>5812</td>\n",
       "      <td>starbucks coffee korea co seoul       kr</td>\n",
       "      <td>seoul</td>\n",
       "      <td>9</td>\n",
       "      <td>18</td>\n",
       "      <td>6.615931</td>\n",
       "    </tr>\n",
       "    <tr>\n",
       "      <th>566772</th>\n",
       "      <td>93F38C7E47B0B735397F64A538CF0C8C</td>\n",
       "      <td>5F22D42CBEF499966F407E6B8E293BDA</td>\n",
       "      <td>2019-08-25</td>\n",
       "      <td>670.0</td>\n",
       "      <td>810</td>\n",
       "      <td>5814</td>\n",
       "      <td>starbucks coffee house    moskva      ru</td>\n",
       "      <td>moscow</td>\n",
       "      <td>8</td>\n",
       "      <td>25</td>\n",
       "      <td>6.507278</td>\n",
       "    </tr>\n",
       "  </tbody>\n",
       "</table>\n",
       "</div>"
      ],
      "text/plain": [
       "                             customer_id                           card_id  \\\n",
       "210362  6A6E2FB9156BEFF543CA4283CD7865D4  2072C526DE838E54CC3FE9EDE152E8BD   \n",
       "227658  A9A78D14672BA9D9015E7712CC28BF79  2DFC7D6C118041F86F5916452831EE2C   \n",
       "614077  2D1B51FBD98FA66F74DA004B8B0C131B  96176515FE651125B7143FA31E364EAD   \n",
       "267306  2EE779BFA5EB22515E4BCD8745838606  7015E717BD3BDAA8E8CEDFE41E4726B9   \n",
       "566772  93F38C7E47B0B735397F64A538CF0C8C  5F22D42CBEF499966F407E6B8E293BDA   \n",
       "\n",
       "       tr_datetime  tr_normalized_amount  currency   mcc  \\\n",
       "210362  2019-09-09                 188.0       810  5814   \n",
       "227658  2019-09-21                 538.0       810  5812   \n",
       "614077  2019-08-04                 320.0       810  5814   \n",
       "267306  2019-09-18                 746.9       810  5812   \n",
       "566772  2019-08-25                 670.0       810  5814   \n",
       "\n",
       "                                       merchant_name merchant_city  tr_month  \\\n",
       "210362  \"\"\"starbucks\"\"               moskva      ru\"        moscow         9   \n",
       "227658      kofeynya                  ples        ru    privolzhsk         9   \n",
       "614077      kofe-mashina dv           khabarovsk  ru    khabarovsk         8   \n",
       "267306      starbucks coffee korea co seoul       kr         seoul         9   \n",
       "566772      starbucks coffee house    moskva      ru        moscow         8   \n",
       "\n",
       "        tr_day  log_amount  \n",
       "210362       9    5.236442  \n",
       "227658      21    6.287859  \n",
       "614077       4    5.768321  \n",
       "267306      18    6.615931  \n",
       "566772      25    6.507278  "
      ]
     },
     "metadata": {},
     "output_type": "display_data"
    },
    {
     "name": "stdout",
     "output_type": "stream",
     "text": [
      "5218\n"
     ]
    }
   ],
   "source": [
    "df = df[df['merchant_name'].str.\\\n",
    "   contains('cof|kof|starbuck|espresso|cappucc|bodry|shokoladnitsa|doubleb|krispy|donut|upside down|wake')]\n",
    "\n",
    "# паттерн 'kafe|cafe' пока не добавляю, так как туда попадают не только кофейни, но и обычные забегаловки\n",
    "\n",
    "display(df.sample(5))\n",
    "print(len(df))"
   ]
  },
  {
   "cell_type": "markdown",
   "id": "9e46b36c",
   "metadata": {},
   "source": [
    "В итоге осталось около 5 тыс. транзакций в кофейнях за данный период"
   ]
  },
  {
   "cell_type": "markdown",
   "id": "d7921900",
   "metadata": {},
   "source": [
    "#### 7. Решение задачи"
   ]
  },
  {
   "cell_type": "code",
   "execution_count": 16,
   "id": "be214053",
   "metadata": {},
   "outputs": [
    {
     "data": {
      "text/html": [
       "<div>\n",
       "<style scoped>\n",
       "    .dataframe tbody tr th:only-of-type {\n",
       "        vertical-align: middle;\n",
       "    }\n",
       "\n",
       "    .dataframe tbody tr th {\n",
       "        vertical-align: top;\n",
       "    }\n",
       "\n",
       "    .dataframe thead th {\n",
       "        text-align: right;\n",
       "    }\n",
       "</style>\n",
       "<table border=\"1\" class=\"dataframe\">\n",
       "  <thead>\n",
       "    <tr style=\"text-align: right;\">\n",
       "      <th></th>\n",
       "      <th>month</th>\n",
       "      <th>customer_id</th>\n",
       "      <th>number_of_tr</th>\n",
       "    </tr>\n",
       "  </thead>\n",
       "  <tbody>\n",
       "    <tr>\n",
       "      <th>400</th>\n",
       "      <td>8</td>\n",
       "      <td>B3DB448056A25A3415AE1D60FB33B06E</td>\n",
       "      <td>3</td>\n",
       "    </tr>\n",
       "    <tr>\n",
       "      <th>793</th>\n",
       "      <td>9</td>\n",
       "      <td>62B72DCC87A55C23F8EA8BCFD6087191</td>\n",
       "      <td>1</td>\n",
       "    </tr>\n",
       "    <tr>\n",
       "      <th>250</th>\n",
       "      <td>8</td>\n",
       "      <td>6D60C4F7480E107D39801B2B9938B6F9</td>\n",
       "      <td>1</td>\n",
       "    </tr>\n",
       "    <tr>\n",
       "      <th>751</th>\n",
       "      <td>9</td>\n",
       "      <td>4DD84A2DC16F923DFFE8CBC992E6AFF2</td>\n",
       "      <td>1</td>\n",
       "    </tr>\n",
       "  </tbody>\n",
       "</table>\n",
       "</div>"
      ],
      "text/plain": [
       "     month                       customer_id  number_of_tr\n",
       "400      8  B3DB448056A25A3415AE1D60FB33B06E             3\n",
       "793      9  62B72DCC87A55C23F8EA8BCFD6087191             1\n",
       "250      8  6D60C4F7480E107D39801B2B9938B6F9             1\n",
       "751      9  4DD84A2DC16F923DFFE8CBC992E6AFF2             1"
      ]
     },
     "execution_count": 16,
     "metadata": {},
     "output_type": "execute_result"
    }
   ],
   "source": [
    "# Группируем транзакции помесячно в разрезе клиентов и преобразовываем результат в датафрейм\n",
    "gr = df.groupby(['tr_month', 'customer_id'])['card_id'].count().reset_index()\n",
    "gr.columns = ['month', 'customer_id', 'number_of_tr']\n",
    "gr.sample(4)"
   ]
  },
  {
   "cell_type": "code",
   "execution_count": 17,
   "id": "0687cca8",
   "metadata": {},
   "outputs": [
    {
     "data": {
      "text/plain": [
       "Index(['4F091780FCF1BA18E39338E1E6EDF165', 'BF899F075596112B3FC79A65CA75687B',\n",
       "       '6015F35ACBB83DE0167C1A34630D3C4C', '0B9C62684D4CB8AD9CC5E2EBE83A265A',\n",
       "       '7766468FDAE38798C426DB86EEE1A9EC', '63B1AF092136453A467B9298D8F4991C',\n",
       "       '1A536EF20663AA322D7DAAB19CA7FB75', '3625EC99ED26ECA8F129DA6791A7C31A',\n",
       "       '47EEF41F98CB930E990D474050C6231F', '116765B446F3A94FDBFC2ED5BB08734D',\n",
       "       ...\n",
       "       'ED6C877D049902D51E12652618C1B2AA', 'A1DF041C32B869FE91F34611FDB576EF',\n",
       "       '249C704E0DC5802979121BCF3A6FD7CC', '13A873ECF427403915BB58EEF5A0D35B',\n",
       "       '2A1EE63DB31CBDFB5F0979A55290667B', '109C778C526EEE38ABA4A53D36B1FD0F',\n",
       "       '3D3A4E144753D31F37A5092F81DCFE91', 'B2B26DFD1E7BA76F265E9D2FDDBE9B03',\n",
       "       '3F90E7183EC47BFD97C34D7C6E14E978', 'C7D94AF34318D50AA4AC79F045AD3A26'],\n",
       "      dtype='object', length=229)"
      ]
     },
     "execution_count": 17,
     "metadata": {},
     "output_type": "execute_result"
    }
   ],
   "source": [
    "# Нужно оставить только тех клиентов, где количество транзакций в месяц превышает одну:\n",
    "gr.drop(gr[gr.number_of_tr < 2].index, inplace=True)\n",
    "\n",
    "# Из них выбираем, где 2 и более покупок были чаще, чем в 1 месяце:\n",
    "c = gr.customer_id.value_counts()\n",
    "c[c>1].index"
   ]
  },
  {
   "cell_type": "markdown",
   "id": "eab924be",
   "metadata": {},
   "source": [
    "\n",
    "**Итог:** \n",
    "\n",
    "229 клиентов"
   ]
  },
  {
   "cell_type": "code",
   "execution_count": null,
   "id": "9d09346b",
   "metadata": {},
   "outputs": [],
   "source": []
  }
 ],
 "metadata": {
  "kernelspec": {
   "display_name": "Python 3",
   "language": "python",
   "name": "python3"
  },
  "language_info": {
   "codemirror_mode": {
    "name": "ipython",
    "version": 3
   },
   "file_extension": ".py",
   "mimetype": "text/x-python",
   "name": "python",
   "nbconvert_exporter": "python",
   "pygments_lexer": "ipython3",
   "version": "3.8.8"
  }
 },
 "nbformat": 4,
 "nbformat_minor": 5
}
